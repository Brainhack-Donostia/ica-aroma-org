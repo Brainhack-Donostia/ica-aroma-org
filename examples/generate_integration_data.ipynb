{
 "cells": [
  {
   "cell_type": "markdown",
   "metadata": {},
   "source": [
    "# Generate AROMA outputs from the original workflow for integration testing"
   ]
  },
  {
   "cell_type": "code",
   "execution_count": 1,
   "metadata": {},
   "outputs": [],
   "source": [
    "import os\n",
    "import os.path as op\n",
    "import shutil\n",
    "\n",
    "import numpy as np\n",
    "import pandas as pd\n",
    "import pytest\n",
    "from nilearn import image, datasets\n",
    "\n",
    "from aroma.tests.utils import get_tests_resource_path"
   ]
  },
  {
   "cell_type": "code",
   "execution_count": 2,
   "metadata": {},
   "outputs": [],
   "source": [
    "nilearn_data = datasets.fetch_development_fmri(n_subjects=1, age_group=\"adult\")\n",
    "in_file = nilearn_data.func[0]\n",
    "confounds_file = nilearn_data.confounds[0]"
   ]
  },
  {
   "cell_type": "code",
   "execution_count": 3,
   "metadata": {},
   "outputs": [],
   "source": [
    "# Obtain test path and determine filenames\n",
    "test_path = get_tests_resource_path()\n",
    "test_file = op.join(test_path, \"smoothed_func.nii.gz\")\n",
    "mc_file = op.join(test_path, \"mc.tsv\")\n",
    "out_path = op.join(test_path, \"integration_test_ground_truth\")\n",
    "\n",
    "# Smooth data using FWHM of 8mm (twice voxel size)\n",
    "in_img_smooth = image.smooth_img(in_file, fwhm=8)\n",
    "in_img_smooth.to_filename(test_file)\n",
    "\n",
    "# Read confounds\n",
    "confounds = pd.read_table(confounds_file)\n",
    "\n",
    "# Extract motion parameters from confounds\n",
    "mc = confounds[[\"rot_x\", \"rot_y\", \"rot_z\", \"trans_x\", \"trans_y\", \"trans_z\"]]\n",
    "mc.to_csv(mc_file, sep=\"\\t\", index=False, header=None)"
   ]
  },
  {
   "cell_type": "code",
   "execution_count": 4,
   "metadata": {},
   "outputs": [
    {
     "name": "stdout",
     "output_type": "stream",
     "text": [
      "\n",
      "------------------------------- RUNNING ICA-AROMA ------------------------------- \n",
      "--------------- 'ICA-based Automatic Removal Of Motion Artifacts' --------------- \n",
      "\n",
      "Step 1) MELODIC\n",
      "Step 2) Automatic classification of the components\n",
      "  - registering the spatial maps to MNI\n",
      "  - extracting the CSF & Edge fraction features\n",
      "  - extracting the Maximum RP correlation feature\n",
      "  - extracting the High-frequency content feature\n",
      "  - classification\n",
      "Found 1 file(s)\n",
      "Found 11 head motion-related components in a total of 29 components.\n",
      "Step 3) Data denoising\n",
      "\n",
      "----------------------------------- Finished -----------------------------------\n",
      "\n"
     ]
    },
    {
     "name": "stderr",
     "output_type": "stream",
     "text": [
      "In /Users/tsalo/anaconda/envs/python3/lib/python3.6/site-packages/matplotlib/mpl-data/stylelib/_classic_test.mplstyle: \n",
      "The savefig.frameon rcparam was deprecated in Matplotlib 3.1 and will be removed in 3.3.\n",
      "In /Users/tsalo/anaconda/envs/python3/lib/python3.6/site-packages/matplotlib/mpl-data/stylelib/_classic_test.mplstyle: \n",
      "The verbose.level rcparam was deprecated in Matplotlib 3.1 and will be removed in 3.3.\n",
      "In /Users/tsalo/anaconda/envs/python3/lib/python3.6/site-packages/matplotlib/mpl-data/stylelib/_classic_test.mplstyle: \n",
      "The verbose.fileo rcparam was deprecated in Matplotlib 3.1 and will be removed in 3.3.\n"
     ]
    }
   ],
   "source": [
    "%%bash -s \"$test_file\" \"$mc_file\" \"$out_path\"\n",
    "\n",
    "python /Users/tsalo/Documents/tsalo/ICA-AROMA/ICA_AROMA.py \\\n",
    "    -i $1 -mc $2 -o $3 -tr 2. -dim 0 -den both"
   ]
  },
  {
   "cell_type": "code",
   "execution_count": 5,
   "metadata": {},
   "outputs": [],
   "source": [
    "# Remove downloaded test data\n",
    "os.remove(mc_file)\n",
    "os.remove(test_file)\n",
    "\n",
    "# Collect certain outputs we care about\n",
    "ica_path = op.join(out_path, \"melodic.ica\")\n",
    "os.rename(\n",
    "    op.join(ica_path, \"eigenvalues_percent\"),\n",
    "    op.join(out_path, \"eigenvalues_percent\")\n",
    ")\n",
    "os.rename(\n",
    "    op.join(ica_path, \"melodic_FTmix\"),\n",
    "    op.join(out_path, \"melodic_FTmix\")\n",
    ")\n",
    "os.rename(\n",
    "    op.join(ica_path, \"melodic_IC.nii.gz\"),\n",
    "    op.join(out_path, \"melodic_IC.nii.gz\")\n",
    ")\n",
    "os.rename(\n",
    "    op.join(ica_path, \"melodic_ICstats\"),\n",
    "    op.join(out_path, \"melodic_ICstats\")\n",
    ")\n",
    "os.rename(\n",
    "    op.join(ica_path, \"melodic_mix\"),\n",
    "    op.join(out_path, \"melodic_mix\")\n",
    ")\n",
    "os.rename(\n",
    "    op.join(ica_path, \"melodic_PPCA\"),\n",
    "    op.join(out_path, \"melodic_PPCA\")\n",
    ")\n",
    "os.rename(\n",
    "    op.join(ica_path, \"melodic_Tmodes\"),\n",
    "    op.join(out_path, \"melodic_Tmodes\")\n",
    ")\n",
    "\n",
    "# Remove MELODIC folder\n",
    "shutil.rmtree(ica_path)"
   ]
  }
 ],
 "metadata": {
  "kernelspec": {
   "display_name": "Python [conda env:python3]",
   "language": "python",
   "name": "conda-env-python3-py"
  },
  "language_info": {
   "codemirror_mode": {
    "name": "ipython",
    "version": 3
   },
   "file_extension": ".py",
   "mimetype": "text/x-python",
   "name": "python",
   "nbconvert_exporter": "python",
   "pygments_lexer": "ipython3",
   "version": "3.6.4"
  }
 },
 "nbformat": 4,
 "nbformat_minor": 2
}
