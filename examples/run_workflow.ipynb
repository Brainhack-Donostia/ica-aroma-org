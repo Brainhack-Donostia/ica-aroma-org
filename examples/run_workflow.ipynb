{
 "cells": [
  {
   "cell_type": "code",
   "execution_count": 1,
   "metadata": {},
   "outputs": [],
   "source": [
    "import os.path as op\n",
    "from aroma import aroma, utils\n",
    "from nilearn.datasets import fetch_development_fmri\n",
    "\n",
    "import pandas as pd"
   ]
  },
  {
   "cell_type": "code",
   "execution_count": 2,
   "metadata": {},
   "outputs": [],
   "source": [
    "data = fetch_development_fmri(n_subjects=1)\n",
    "func_file = data[\"func\"][0]\n",
    "confounds = data[\"confounds\"][0]"
   ]
  },
  {
   "cell_type": "code",
   "execution_count": 3,
   "metadata": {},
   "outputs": [],
   "source": [
    "out_dir = op.abspath(\"./results\")\n",
    "mc_path = op.join(out_dir, \"mc.tsv\")\n",
    "aroma_output_dir = op.join(out_dir, \"aroma-results\")"
   ]
  },
  {
   "cell_type": "code",
   "execution_count": 4,
   "metadata": {},
   "outputs": [],
   "source": [
    "df = pd.read_table(confounds)\n",
    "motpars = df[[\"rot_x\", \"rot_y\", \"rot_z\", \"trans_x\", \"trans_y\", \"trans_z\"]]\n",
    "motpars.to_csv(mc_path, sep=\"\\t\", index=False, header=None)"
   ]
  },
  {
   "cell_type": "code",
   "execution_count": 5,
   "metadata": {},
   "outputs": [
    {
     "name": "stdout",
     "output_type": "stream",
     "text": [
      "\n",
      "------------------------ RUNNING ICA-AROMA ------------------------\n",
      "-------- 'ICA-based Automatic Removal Of Motion Artifacts' --------\n",
      "\n",
      "Step 1) MELODIC\n",
      "Step 2) Automatic classification of the components\n",
      "  - registering the spatial maps to MNI\n",
      "  - extracting the CSF & Edge fraction features\n",
      "  - extracting the Maximum RP correlation feature\n",
      "  - extracting the High-frequency content feature\n",
      "  - classification\n"
     ]
    },
    {
     "name": "stderr",
     "output_type": "stream",
     "text": [
      "In /Users/tsalo/anaconda/envs/python3/lib/python3.6/site-packages/matplotlib/mpl-data/stylelib/_classic_test.mplstyle: \n",
      "The savefig.frameon rcparam was deprecated in Matplotlib 3.1 and will be removed in 3.3.\n",
      "In /Users/tsalo/anaconda/envs/python3/lib/python3.6/site-packages/matplotlib/mpl-data/stylelib/_classic_test.mplstyle: \n",
      "The verbose.level rcparam was deprecated in Matplotlib 3.1 and will be removed in 3.3.\n",
      "In /Users/tsalo/anaconda/envs/python3/lib/python3.6/site-packages/matplotlib/mpl-data/stylelib/_classic_test.mplstyle: \n",
      "The verbose.fileo rcparam was deprecated in Matplotlib 3.1 and will be removed in 3.3.\n"
     ]
    },
    {
     "name": "stdout",
     "output_type": "stream",
     "text": [
      "Found 1 file(s)\n",
      "Found 14 head motion-related components in a total of 44 components.\n",
      "Step 3) Data denoising\n",
      "/usr/local/fsl/bin/fsl_regfilt --in=/Users/tsalo/nilearn_data/development_fmri/development_fmri/sub-pixar123_task-pixar_space-MNI152NLin2009cAsym_desc-preproc_bold.nii.gz --design=/Users/tsalo/Documents/tsalo/ica-aroma-org/examples/results/aroma-results/melodic.ica/melodic_mix --filter='1,2,3,4,5,6,13,18,20,22,26,38,41,44' --out=/Users/tsalo/Documents/tsalo/ica-aroma-org/examples/results/aroma-results/denoised_func_data_nonaggr.nii.gz\n",
      "Finished\n"
     ]
    }
   ],
   "source": [
    "aroma.aroma_workflow(\n",
    "    inFile=func_file, mc=mc_path, outDir=aroma_output_dir, \n",
    "    TR=2, denType=\"nonaggr\",\n",
    "    inFeat=None, melDir=\"\", affmat=\"\", warp=\"\", dim=0, \n",
    "    mask=\"\", overwrite=True, generate_plots=True, \n",
    ")"
   ]
  },
  {
   "cell_type": "code",
   "execution_count": null,
   "metadata": {},
   "outputs": [],
   "source": []
  }
 ],
 "metadata": {
  "kernelspec": {
   "display_name": "Python [conda env:python3]",
   "language": "python",
   "name": "conda-env-python3-py"
  },
  "language_info": {
   "codemirror_mode": {
    "name": "ipython",
    "version": 3
   },
   "file_extension": ".py",
   "mimetype": "text/x-python",
   "name": "python",
   "nbconvert_exporter": "python",
   "pygments_lexer": "ipython3",
   "version": "3.6.4"
  }
 },
 "nbformat": 4,
 "nbformat_minor": 2
}
